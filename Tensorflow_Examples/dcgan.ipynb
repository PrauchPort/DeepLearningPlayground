{
 "metadata": {
  "language_info": {
   "codemirror_mode": {
    "name": "ipython",
    "version": 3
   },
   "file_extension": ".py",
   "mimetype": "text/x-python",
   "name": "python",
   "nbconvert_exporter": "python",
   "pygments_lexer": "ipython3",
   "version": "3.6.10-final"
  },
  "orig_nbformat": 2,
  "kernelspec": {
   "name": "python361064bitdeeplearningcondaa9daeba634b04f9786f392bcf0f53381",
   "display_name": "Python 3.6.10 64-bit ('deeplearning': conda)"
  }
 },
 "nbformat": 4,
 "nbformat_minor": 2,
 "cells": [
  {
   "cell_type": "code",
   "execution_count": null,
   "metadata": {},
   "outputs": [],
   "source": [
    "# https://github.com/aymericdamien/TensorFlow-Examples/blob/master/tensorflow_v2/notebooks/3_NeuralNetworks/dcgan.ipynb"
   ]
  },
  {
   "cell_type": "code",
   "execution_count": 1,
   "metadata": {},
   "outputs": [],
   "source": [
    "import tensorflow as tf\n",
    "import numpy as np\n",
    "\n",
    "from tensorflow.keras import Model, layers\n",
    "from tensorflow.keras.datasets import mnist\n"
   ]
  },
  {
   "cell_type": "code",
   "execution_count": 2,
   "metadata": {},
   "outputs": [],
   "source": [
    "gen_lr = 0.002\n",
    "disc_lr = 0.002\n",
    "\n",
    "num_features = 784\n",
    "num_classes = 10\n",
    "\n",
    "batch_size = 128\n",
    "noise_dim = 100"
   ]
  },
  {
   "cell_type": "code",
   "execution_count": 3,
   "metadata": {},
   "outputs": [],
   "source": [
    "( x_train, y_train ), ( x_test, y_test ) = mnist.load_data()\n",
    "\n",
    "x_train, x_test = np.array(x_train, np.float32), np.array(x_test, np.float32)\n",
    "\n",
    "x_train, x_test = x_train.reshape([-1, num_features]), x_test.reshape([-1, num_features])\n",
    "\n",
    "x_train, x_test = x_train / 255., x_test / 255."
   ]
  },
  {
   "cell_type": "code",
   "execution_count": 4,
   "metadata": {},
   "outputs": [],
   "source": [
    "train_data = tf.data.Dataset.from_tensor_slices((x_train, y_train))\n",
    "train_data = train_data.repeat().shuffle(10000).batch(batch_size).prefetch(1)"
   ]
  },
  {
   "cell_type": "code",
   "execution_count": 5,
   "metadata": {},
   "outputs": [],
   "source": [
    "class Generator(Model):\n",
    "    # Set layers.\n",
    "    def __init__(self):\n",
    "        super(Generator, self).__init__()\n",
    "        self.fc1 = layers.Dense(7 * 7 * 128)\n",
    "        self.bn1 = layers.BatchNormalization()\n",
    "        self.conv2tr1 = layers.Conv2DTranspose(64, 5, strides=2, padding='SAME')\n",
    "        self.bn2 = layers.BatchNormalization()\n",
    "        self.conv2tr2 = layers.Conv2DTranspose(1, 5, strides=2, padding='SAME')\n",
    "\n",
    "    # Set forward pass.\n",
    "    def call(self, x, is_training=False):\n",
    "        x = self.fc1(x)\n",
    "        x = self.bn1(x, training=is_training)\n",
    "        x = tf.nn.leaky_relu(x)\n",
    "        # Reshape to a 4-D array of images: (batch, height, width, channels)\n",
    "        # New shape: (batch, 7, 7, 128)\n",
    "        x = tf.reshape(x, shape=[-1, 7, 7, 128])\n",
    "        # Deconvolution, image shape: (batch, 14, 14, 64)\n",
    "        x = self.conv2tr1(x)\n",
    "        x = self.bn2(x, training=is_training)\n",
    "        x = tf.nn.leaky_relu(x)\n",
    "        # Deconvolution, image shape: (batch, 28, 28, 1)\n",
    "        x = self.conv2tr2(x)\n",
    "        x = tf.nn.tanh(x)\n",
    "        return x\n"
   ]
  },
  {
   "cell_type": "code",
   "execution_count": 6,
   "metadata": {},
   "outputs": [],
   "source": [
    "class Discriminator(Model):\n",
    "\n",
    "    def __init__(self):\n",
    "        super(Discriminator, self).__init__()\n",
    "\n",
    "        self.conv1 = layers.Conv2D(filters=64, kernel_size=5, strides=2, padding='SAME', activation=tf.nn.relu)\n",
    "        self.bn1 = layers.BatchNormalization()\n",
    "\n",
    "        self.conv2 = layers.Conv2D(filters=64, kernel_size=2, strides=2, padding='SAME', activation=tf.nn.relu)\n",
    "        self.bn2 = layers.BatchNormalization()\n",
    "\n",
    "        self.fc1 = layers.Dense(2)\n",
    "\n",
    "    def call(self, x, is_training=False):\n",
    "\n",
    "        x = tf.reshape(x, [-1, 28, 28, 1])\n",
    "\n",
    "        x = self.conv1(x)\n",
    "        x = self.bn1(x)\n",
    "\n",
    "        x = self.conv2(x)\n",
    "        x = self.bn2(x)\n",
    "\n",
    "        x = layers.Flatten()(x)\n",
    "\n",
    "        x = self.fc1(x)\n",
    "\n",
    "        if not is_training:\n",
    "            x = tf.nn.softmax(x)\n",
    "        \n",
    "        return x\n",
    "\n",
    "generator = Generator()\n",
    "discriminator = Discriminator()"
   ]
  },
  {
   "cell_type": "code",
   "execution_count": 7,
   "metadata": {},
   "outputs": [],
   "source": [
    "\n",
    "def generator_loss(reconstructed_image):\n",
    "    gen_loss = tf.reduce_mean(tf.nn.sparse_softmax_cross_entropy_with_logits(\n",
    "        logits=reconstructed_image, labels=tf.ones([batch_size], dtype=tf.int32)))\n",
    "    return gen_loss\n",
    "\n",
    "def discriminator_loss(generated_images, real_images):\n",
    "    fake_loss = tf.reduce_mean( tf.nn.sparse_softmax_cross_entropy_with_logits( logits=generated_images, \n",
    "                                labels=tf.zeros([generated_images.shape[0]], dtype=tf.int32) ) )\n",
    "\n",
    "    real_loss = tf.reduce_mean( tf.nn.sparse_softmax_cross_entropy_with_logits( logits=real_images, \n",
    "                                labels=tf.ones([real_images.shape[0]], dtype=tf.int32) ) )\n",
    "\n",
    "    return fake_loss + real_loss\n",
    "\n",
    "optimizer_gen = tf.optimizers.Adam(learning_rate=gen_lr)#, beta_1=0.5, beta_2=0.999)\n",
    "optimizer_disc = tf.optimizers.Adam(learning_rate=disc_lr)#, beta_1=0.5, beta_2=0.999)"
   ]
  },
  {
   "cell_type": "code",
   "execution_count": 16,
   "metadata": {},
   "outputs": [],
   "source": [
    "def run_optimization(real_images):\n",
    "\n",
    "    real_images = real_images * 2. - 1.\n",
    "    noise = np.random.normal(-1., 1., size=[batch_size, noise_dim]).astype(np.float32)\n",
    "\n",
    "\n",
    "    with tf.GradientTape()  as tape:\n",
    "\n",
    "        # print(f\"Noise shape for generator: {noise.shape}\")\n",
    "\n",
    "        fake_images = generator(noise, is_training=True)\n",
    "\n",
    "        # print(f\"Fake images shape for discriminator: {fake_images.shape}\")\n",
    "        # print(f\"Real images shape for discriminator: {real_images.shape}\")\n",
    "\n",
    "        real_pred = discriminator(real_images)\n",
    "        fake_pred = discriminator(fake_images)\n",
    "\n",
    "        disc_loss = discriminator_loss(fake_pred, real_pred)\n",
    "\n",
    "\n",
    "    disc_gradients = tape.gradient(disc_loss, discriminator.trainable_variables)\n",
    "    optimizer_disc.apply_gradients(zip(disc_gradients, discriminator.trainable_variables))\n",
    "    # print(\"Done optimizing for discriminator\")\n",
    "\n",
    "    with tf.GradientTape() as tape:\n",
    "\n",
    "        # print(f\"Noise shape for generator: {noise.shape}\")\n",
    "\n",
    "        generated_images = generator(noise, is_training=True)\n",
    "\n",
    "        fake_pred = discriminator(generated_images)\n",
    "\n",
    "        # print(f\"Generated images shape by generator: {generated_images.shape}\")\n",
    "\n",
    "        gen_loss = generator_loss(fake_pred)\n",
    "\n",
    "    # print(generator.trainable_variables)\n",
    "\n",
    "    gen_gradients = tape.gradient( gen_loss, generator.trainable_variables )\n",
    "    optimizer_gen.apply_gradients( zip( gen_gradients, generator.trainable_variables ) )\n",
    "    # print(\"Done optimizing for generator\")\n",
    "\n",
    "    return gen_loss, disc_loss\n",
    "    \n"
   ]
  },
  {
   "cell_type": "code",
   "execution_count": 11,
   "metadata": {},
   "outputs": [],
   "source": [
    "def run_optimization(real_images):\n",
    "    \n",
    "    # Rescale to [-1, 1], the input range of the discriminator\n",
    "    real_images = real_images * 2. - 1.\n",
    "\n",
    "    # Generate noise.\n",
    "    noise = np.random.normal(-1., 1., size=[batch_size, noise_dim]).astype(np.float32)\n",
    "    \n",
    "    with tf.GradientTape() as g:\n",
    "            \n",
    "        fake_images = generator(noise, is_training=True)\n",
    "        disc_fake = discriminator(fake_images, is_training=True)\n",
    "        disc_real = discriminator(real_images, is_training=True)\n",
    "\n",
    "        disc_loss = discriminator_loss(disc_fake, disc_real)\n",
    "            \n",
    "    # Training Variables for each optimizer\n",
    "    gradients_disc = g.gradient(disc_loss,  discriminator.trainable_variables)\n",
    "    optimizer_disc.apply_gradients(zip(gradients_disc,  discriminator.trainable_variables))\n",
    "    \n",
    "    # Generate noise.\n",
    "    noise = np.random.normal(-1., 1., size=[batch_size, noise_dim]).astype(np.float32)\n",
    "    \n",
    "    with tf.GradientTape() as g:\n",
    "            \n",
    "        fake_images = generator(noise, is_training=True)\n",
    "        disc_fake = discriminator(fake_images, is_training=True)\n",
    "\n",
    "        gen_loss = generator_loss(disc_fake)\n",
    "            \n",
    "    gradients_gen = g.gradient(gen_loss, generator.trainable_variables)\n",
    "    optimizer_gen.apply_gradients(zip(gradients_gen, generator.trainable_variables))\n",
    "    \n",
    "    return gen_loss, disc_loss"
   ]
  },
  {
   "cell_type": "code",
   "execution_count": 12,
   "metadata": {},
   "outputs": [],
   "source": [
    "training_steps = 20000\n",
    "display_step = 500"
   ]
  },
  {
   "cell_type": "code",
   "execution_count": 17,
   "metadata": {
    "tags": []
   },
   "outputs": [
    {
     "output_type": "stream",
     "name": "stdout",
     "text": "step: 500, gen_loss: 1.157310, disc_loss: 0.779208\nstep: 1000, gen_loss: 1.144618, disc_loss: 0.820240\nstep: 1500, gen_loss: 1.213004, disc_loss: 0.771151\nstep: 2000, gen_loss: 1.217448, disc_loss: 0.776707\nstep: 2500, gen_loss: 1.266035, disc_loss: 0.814330\nstep: 3000, gen_loss: 1.211490, disc_loss: 0.753713\nstep: 3500, gen_loss: 1.172762, disc_loss: 0.781510\nstep: 4000, gen_loss: 1.279287, disc_loss: 0.769004\nstep: 4500, gen_loss: 1.212875, disc_loss: 0.816279\nstep: 5000, gen_loss: 1.229751, disc_loss: 0.791036\nstep: 5500, gen_loss: 1.265574, disc_loss: 0.732992\nstep: 6000, gen_loss: 1.262895, disc_loss: 0.748382\nstep: 6500, gen_loss: 1.263717, disc_loss: 0.771037\nstep: 7000, gen_loss: 1.215560, disc_loss: 0.806695\nstep: 7500, gen_loss: 1.246353, disc_loss: 0.766518\nstep: 8000, gen_loss: 1.238247, disc_loss: 0.754094\nstep: 8500, gen_loss: 1.290617, disc_loss: 0.703567\nstep: 9000, gen_loss: 1.244952, disc_loss: 0.752429\nstep: 9500, gen_loss: 1.309390, disc_loss: 0.748993\nstep: 10000, gen_loss: 1.263842, disc_loss: 0.773692\nstep: 10500, gen_loss: 1.286629, disc_loss: 0.810588\nstep: 11000, gen_loss: 1.294774, disc_loss: 0.713805\nstep: 11500, gen_loss: 1.244264, disc_loss: 0.722420\nstep: 12000, gen_loss: 1.218281, disc_loss: 0.741879\nstep: 12500, gen_loss: 1.228846, disc_loss: 0.756012\nstep: 13000, gen_loss: 1.284546, disc_loss: 0.691108\nstep: 13500, gen_loss: 1.278996, disc_loss: 0.747514\nstep: 14000, gen_loss: 1.211903, disc_loss: 0.766289\nstep: 14500, gen_loss: 1.239736, disc_loss: 0.825444\nstep: 15000, gen_loss: 1.234175, disc_loss: 0.732575\nstep: 15500, gen_loss: 1.286398, disc_loss: 0.701119\nstep: 16000, gen_loss: 1.288029, disc_loss: 0.732746\nstep: 16500, gen_loss: 1.288986, disc_loss: 0.739101\nstep: 17000, gen_loss: 1.255613, disc_loss: 0.720329\nstep: 17500, gen_loss: 1.289407, disc_loss: 0.693946\nstep: 18000, gen_loss: 1.206843, disc_loss: 0.749661\nstep: 18500, gen_loss: 1.273296, disc_loss: 0.700276\nstep: 19000, gen_loss: 1.293802, disc_loss: 0.692669\nstep: 19500, gen_loss: 1.277495, disc_loss: 0.726665\nstep: 20000, gen_loss: 1.299801, disc_loss: 0.740362\n"
    }
   ],
   "source": [
    "for step, (batch_x, _) in enumerate(train_data.take(training_steps + 1)):\n",
    "    \n",
    "    if step == 0:\n",
    "        # Generate noise.\n",
    "        noise = np.random.normal(-1., 1., size=[batch_size, noise_dim]).astype(np.float32)\n",
    "\n",
    "        # print(f\"Noise shape in main for loop: {noise.shape}\")\n",
    "\n",
    "        generated_images = generator(noise)\n",
    "\n",
    "        # print(f\"Generated images shape in main for loop: {generated_images.shape}\")\n",
    "\n",
    "        gen_loss = generator_loss(discriminator(generated_images))\n",
    "\n",
    "\n",
    "        disc_loss = discriminator_loss(discriminator(batch_x), discriminator(generator(noise)))\n",
    "        # print(\"initial: gen_loss: %f, disc_loss: %f\" % (gen_loss, disc_loss))\n",
    "        continue\n",
    "    \n",
    "    # Run the optimization.\n",
    "    gen_loss, disc_loss = run_optimization(batch_x)\n",
    "    \n",
    "    if step % display_step == 0:\n",
    "        print(\"step: %i, gen_loss: %f, disc_loss: %f\" % (step, gen_loss, disc_loss))"
   ]
  },
  {
   "cell_type": "code",
   "execution_count": null,
   "metadata": {},
   "outputs": [],
   "source": []
  },
  {
   "cell_type": "code",
   "execution_count": null,
   "metadata": {},
   "outputs": [],
   "source": []
  },
  {
   "cell_type": "code",
   "execution_count": null,
   "metadata": {},
   "outputs": [],
   "source": []
  },
  {
   "cell_type": "code",
   "execution_count": null,
   "metadata": {},
   "outputs": [],
   "source": []
  },
  {
   "cell_type": "code",
   "execution_count": null,
   "metadata": {},
   "outputs": [],
   "source": []
  },
  {
   "cell_type": "code",
   "execution_count": null,
   "metadata": {},
   "outputs": [],
   "source": []
  },
  {
   "cell_type": "code",
   "execution_count": null,
   "metadata": {},
   "outputs": [],
   "source": []
  }
 ]
}