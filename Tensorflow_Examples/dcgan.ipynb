{
 "metadata": {
  "language_info": {
   "codemirror_mode": {
    "name": "ipython",
    "version": 3
   },
   "file_extension": ".py",
   "mimetype": "text/x-python",
   "name": "python",
   "nbconvert_exporter": "python",
   "pygments_lexer": "ipython3",
   "version": "3.6.10-final"
  },
  "orig_nbformat": 2,
  "kernelspec": {
   "name": "python361064bitdeeplearningcondaa9daeba634b04f9786f392bcf0f53381",
   "display_name": "Python 3.6.10 64-bit ('deeplearning': conda)"
  }
 },
 "nbformat": 4,
 "nbformat_minor": 2,
 "cells": [
  {
   "cell_type": "code",
   "execution_count": null,
   "metadata": {},
   "outputs": [],
   "source": [
    "# https://github.com/aymericdamien/TensorFlow-Examples/blob/master/tensorflow_v2/notebooks/3_NeuralNetworks/dcgan.ipynb"
   ]
  },
  {
   "cell_type": "code",
   "execution_count": 1,
   "metadata": {},
   "outputs": [],
   "source": [
    "import tensorflow as tf\n",
    "import numpy as np\n",
    "\n",
    "from tensorflow.keras import Model, layers\n",
    "from tensorflow.keras.datasets import mnist\n"
   ]
  },
  {
   "cell_type": "code",
   "execution_count": 2,
   "metadata": {},
   "outputs": [],
   "source": [
    "gen_lr = 0.002\n",
    "disc_lr = 0.002\n",
    "\n",
    "num_features = 784\n",
    "num_classes = 10\n",
    "\n",
    "batch_size = 128\n",
    "noise_dim = 100"
   ]
  },
  {
   "cell_type": "code",
   "execution_count": 3,
   "metadata": {},
   "outputs": [],
   "source": [
    "( x_train, y_train ), ( x_test, y_test ) = mnist.load_data()\n",
    "\n",
    "x_train, x_test = np.array(x_train, np.float32), np.array(x_test, np.float32)\n",
    "\n",
    "x_train, x_test = x_train.reshape([-1, num_features]), x_test.reshape([-1, num_features])\n",
    "\n",
    "x_train, x_test = x_train / 255., x_test / 255."
   ]
  },
  {
   "cell_type": "code",
   "execution_count": 4,
   "metadata": {},
   "outputs": [],
   "source": [
    "train_data = tf.data.Dataset.from_tensor_slices((x_train, y_train))\n",
    "train_data = train_data.repeat().shuffle(10000).batch(batch_size).prefetch(1)"
   ]
  },
  {
   "cell_type": "code",
   "execution_count": 5,
   "metadata": {},
   "outputs": [],
   "source": [
    "class Generator(Model):\n",
    "    # Set layers.\n",
    "    def __init__(self):\n",
    "        super(Generator, self).__init__()\n",
    "        self.fc1 = layers.Dense(7 * 7 * 128)\n",
    "        self.bn1 = layers.BatchNormalization()\n",
    "        self.conv2tr1 = layers.Conv2DTranspose(64, 5, strides=2, padding='SAME')\n",
    "        self.bn2 = layers.BatchNormalization()\n",
    "        self.conv2tr2 = layers.Conv2DTranspose(1, 5, strides=2, padding='SAME')\n",
    "\n",
    "    # Set forward pass.\n",
    "    def call(self, x, is_training=False):\n",
    "        x = self.fc1(x)\n",
    "        x = self.bn1(x, training=is_training)\n",
    "        x = tf.nn.leaky_relu(x)\n",
    "        # Reshape to a 4-D array of images: (batch, height, width, channels)\n",
    "        # New shape: (batch, 7, 7, 128)\n",
    "        x = tf.reshape(x, shape=[-1, 7, 7, 128])\n",
    "        # Deconvolution, image shape: (batch, 14, 14, 64)\n",
    "        x = self.conv2tr1(x)\n",
    "        x = self.bn2(x, training=is_training)\n",
    "        x = tf.nn.leaky_relu(x)\n",
    "        # Deconvolution, image shape: (batch, 28, 28, 1)\n",
    "        x = self.conv2tr2(x)\n",
    "        x = tf.nn.tanh(x)\n",
    "        return x\n"
   ]
  },
  {
   "cell_type": "code",
   "execution_count": 6,
   "metadata": {},
   "outputs": [],
   "source": [
    "class Discriminator(Model):\n",
    "\n",
    "    def __init__(self):\n",
    "        super(Discriminator, self).__init__()\n",
    "\n",
    "        self.conv1 = layers.Conv2D(filters=64, kernel_size=5, strides=2, padding='SAME', activation=tf.nn.relu)\n",
    "        self.bn1 = layers.BatchNormalization()\n",
    "\n",
    "        self.conv2 = layers.Conv2D(filters=64, kernel_size=2, strides=2, padding='SAME', activation=tf.nn.relu)\n",
    "        self.bn2 = layers.BatchNormalization()\n",
    "\n",
    "        self.fc1 = layers.Dense(2)\n",
    "\n",
    "    def call(self, x, is_training=False):\n",
    "\n",
    "        x = tf.reshape(x, [-1, 28, 28, 1])\n",
    "\n",
    "        x = self.conv1(x)\n",
    "        x = self.bn1(x)\n",
    "\n",
    "        x = self.conv2(x)\n",
    "        x = self.bn2(x)\n",
    "\n",
    "        x = layers.Flatten()(x)\n",
    "\n",
    "        x = self.fc1(x)\n",
    "\n",
    "        if not is_training:\n",
    "            x = tf.nn.softmax(x)\n",
    "        \n",
    "        return x\n",
    "\n",
    "generator = Generator()\n",
    "discriminator = Discriminator()"
   ]
  },
  {
   "cell_type": "code",
   "execution_count": 7,
   "metadata": {},
   "outputs": [],
   "source": [
    "\n",
    "def generator_loss(reconstructed_image):\n",
    "    gen_loss = tf.reduce_mean(tf.nn.sparse_softmax_cross_entropy_with_logits(\n",
    "        logits=reconstructed_image, labels=tf.ones([batch_size], dtype=tf.int32)))\n",
    "    return gen_loss\n",
    "\n",
    "def discriminator_loss(generated_images, real_images):\n",
    "    fake_loss = tf.reduce_mean( tf.nn.sparse_softmax_cross_entropy_with_logits( logits=generated_images, \n",
    "                                labels=tf.zeros([generated_images.shape[0]], dtype=tf.int32) ) )\n",
    "\n",
    "    real_loss = tf.reduce_mean( tf.nn.sparse_softmax_cross_entropy_with_logits( logits=real_images, \n",
    "                                labels=tf.ones([real_images.shape[0]], dtype=tf.int32) ) )\n",
    "\n",
    "    return fake_loss + real_loss\n",
    "\n",
    "optimizer_gen = tf.optimizers.Adam(learning_rate=gen_lr)#, beta_1=0.5, beta_2=0.999)\n",
    "optimizer_disc = tf.optimizers.Adam(learning_rate=disc_lr)#, beta_1=0.5, beta_2=0.999)"
   ]
  },
  {
   "cell_type": "code",
   "execution_count": 16,
   "metadata": {},
   "outputs": [],
   "source": [
    "def run_optimization(real_images):\n",
    "\n",
    "    real_images = real_images * 2. - 1.\n",
    "    noise = np.random.normal(-1., 1., size=[batch_size, noise_dim]).astype(np.float32)\n",
    "\n",
    "\n",
    "    with tf.GradientTape()  as tape:\n",
    "\n",
    "        # print(f\"Noise shape for generator: {noise.shape}\")\n",
    "\n",
    "        fake_images = generator(noise, is_training=True)\n",
    "\n",
    "        # print(f\"Fake images shape for discriminator: {fake_images.shape}\")\n",
    "        # print(f\"Real images shape for discriminator: {real_images.shape}\")\n",
    "\n",
    "        real_pred = discriminator(real_images)\n",
    "        fake_pred = discriminator(fake_images)\n",
    "\n",
    "        disc_loss = discriminator_loss(fake_pred, real_pred)\n",
    "\n",
    "\n",
    "    disc_gradients = tape.gradient(disc_loss, discriminator.trainable_variables)\n",
    "    optimizer_disc.apply_gradients(zip(disc_gradients, discriminator.trainable_variables))\n",
    "    # print(\"Done optimizing for discriminator\")\n",
    "\n",
    "    with tf.GradientTape() as tape:\n",
    "\n",
    "        # print(f\"Noise shape for generator: {noise.shape}\")\n",
    "\n",
    "        generated_images = generator(noise, is_training=True)\n",
    "\n",
    "        fake_pred = discriminator(generated_images)\n",
    "\n",
    "        # print(f\"Generated images shape by generator: {generated_images.shape}\")\n",
    "\n",
    "        gen_loss = generator_loss(fake_pred)\n",
    "\n",
    "    # print(generator.trainable_variables)\n",
    "\n",
    "    gen_gradients = tape.gradient( gen_loss, generator.trainable_variables )\n",
    "    optimizer_gen.apply_gradients( zip( gen_gradients, generator.trainable_variables ) )\n",
    "    # print(\"Done optimizing for generator\")\n",
    "\n",
    "    return gen_loss, disc_loss\n",
    "    \n"
   ]
  },
  {
   "cell_type": "code",
   "execution_count": 11,
   "metadata": {},
   "outputs": [],
   "source": [
    "def run_optimization(real_images):\n",
    "    \n",
    "    # Rescale to [-1, 1], the input range of the discriminator\n",
    "    real_images = real_images * 2. - 1.\n",
    "\n",
    "    # Generate noise.\n",
    "    noise = np.random.normal(-1., 1., size=[batch_size, noise_dim]).astype(np.float32)\n",
    "    \n",
    "    with tf.GradientTape() as g:\n",
    "            \n",
    "        fake_images = generator(noise, is_training=True)\n",
    "        disc_fake = discriminator(fake_images, is_training=True)\n",
    "        disc_real = discriminator(real_images, is_training=True)\n",
    "\n",
    "        disc_loss = discriminator_loss(disc_fake, disc_real)\n",
    "            \n",
    "    # Training Variables for each optimizer\n",
    "    gradients_disc = g.gradient(disc_loss,  discriminator.trainable_variables)\n",
    "    optimizer_disc.apply_gradients(zip(gradients_disc,  discriminator.trainable_variables))\n",
    "    \n",
    "    # Generate noise.\n",
    "    noise = np.random.normal(-1., 1., size=[batch_size, noise_dim]).astype(np.float32)\n",
    "    \n",
    "    with tf.GradientTape() as g:\n",
    "            \n",
    "        fake_images = generator(noise, is_training=True)\n",
    "        disc_fake = discriminator(fake_images, is_training=True)\n",
    "\n",
    "        gen_loss = generator_loss(disc_fake)\n",
    "            \n",
    "    gradients_gen = g.gradient(gen_loss, generator.trainable_variables)\n",
    "    optimizer_gen.apply_gradients(zip(gradients_gen, generator.trainable_variables))\n",
    "    \n",
    "    return gen_loss, disc_loss"
   ]
  },
  {
   "cell_type": "code",
   "execution_count": 12,
   "metadata": {},
   "outputs": [],
   "source": [
    "training_steps = 20000\n",
    "display_step = 500"
   ]
  },
  {
   "cell_type": "code",
   "execution_count": 15,
   "metadata": {
    "tags": []
   },
   "outputs": [
    {
     "output_type": "stream",
     "name": "stdout",
     "text": "mages shape for discriminator: (128, 28, 28, 1)\nReal images shape for discriminator: (128, 784)\nDone optimizing for discriminator\nNoise shape for generator: (128, 100)\nGenerated images shape by generator: (128, 28, 28, 1)\nDone optimizing for generator\nNoise shape for generator: (128, 100)\nFake images shape for discriminator: (128, 28, 28, 1)\nReal images shape for discriminator: (128, 784)\nDone optimizing for discriminator\nNoise shape for generator: (128, 100)\nGenerated images shape by generator: (128, 28, 28, 1)\nDone optimizing for generator\nNoise shape for generator: (128, 100)\nFake images shape for discriminator: (128, 28, 28, 1)\nReal images shape for discriminator: (128, 784)\nDone optimizing for discriminator\nNoise shape for generator: (128, 100)\nGenerated images shape by generator: (128, 28, 28, 1)\nDone optimizing for generator\nNoise shape for generator: (128, 100)\nFake images shape for discriminator: (128, 28, 28, 1)\nReal images shape for discriminator: (128, 784)\nDone optimizing for discriminator\nNoise shape for generator: (128, 100)\nGenerated images shape by generator: (128, 28, 28, 1)\nDone optimizing for generator\nNoise shape for generator: (128, 100)\nFake images shape for discriminator: (128, 28, 28, 1)\nReal images shape for discriminator: (128, 784)\nDone optimizing for discriminator\nNoise shape for generator: (128, 100)\nGenerated images shape by generator: (128, 28, 28, 1)\nDone optimizing for generator\nNoise shape for generator: (128, 100)\nFake images shape for discriminator: (128, 28, 28, 1)\nReal images shape for discriminator: (128, 784)\nDone optimizing for discriminator\nNoise shape for generator: (128, 100)\nGenerated images shape by generator: (128, 28, 28, 1)\nDone optimizing for generator\nNoise shape for generator: (128, 100)\nFake images shape for discriminator: (128, 28, 28, 1)\nReal images shape for discriminator: (128, 784)\nDone optimizing for discriminator\nNoise shape for generator: (128, 100)\nGenerated images shape by generator: (128, 28, 28, 1)\nDone optimizing for generator\nNoise shape for generator: (128, 100)\nFake images shape for discriminator: (128, 28, 28, 1)\nReal images shape for discriminator: (128, 784)\nDone optimizing for discriminator\nNoise shape for generator: (128, 100)\nGenerated images shape by generator: (128, 28, 28, 1)\nDone optimizing for generator\nNoise shape for generator: (128, 100)\nFake images shape for discriminator: (128, 28, 28, 1)\nReal images shape for discriminator: (128, 784)\nDone optimizing for discriminator\nNoise shape for generator: (128, 100)\nGenerated images shape by generator: (128, 28, 28, 1)\nDone optimizing for generator\nNoise shape for generator: (128, 100)\nFake images shape for discriminator: (128, 28, 28, 1)\nReal images shape for discriminator: (128, 784)\nDone optimizing for discriminator\nNoise shape for generator: (128, 100)\nGenerated images shape by generator: (128, 28, 28, 1)\nDone optimizing for generator\nNoise shape for generator: (128, 100)\nFake images shape for discriminator: (128, 28, 28, 1)\nReal images shape for discriminator: (128, 784)\nDone optimizing for discriminator\nNoise shape for generator: (128, 100)\nGenerated images shape by generator: (128, 28, 28, 1)\nDone optimizing for generator\nNoise shape for generator: (128, 100)\nFake images shape for discriminator: (128, 28, 28, 1)\nReal images shape for discriminator: (128, 784)\nDone optimizing for discriminator\nNoise shape for generator: (128, 100)\nGenerated images shape by generator: (128, 28, 28, 1)\nDone optimizing for generator\nNoise shape for generator: (128, 100)\nFake images shape for discriminator: (128, 28, 28, 1)\nReal images shape for discriminator: (128, 784)\nDone optimizing for discriminator\nNoise shape for generator: (128, 100)\nGenerated images shape by generator: (128, 28, 28, 1)\nDone optimizing for generator\nNoise shape for generator: (128, 100)\nFake images shape for discriminator: (128, 28, 28, 1)\nReal images shape for discriminator: (128, 784)\nDone optimizing for discriminator\nNoise shape for generator: (128, 100)\nGenerated images shape by generator: (128, 28, 28, 1)\nDone optimizing for generator\nNoise shape for generator: (128, 100)\nFake images shape for discriminator: (128, 28, 28, 1)\nReal images shape for discriminator: (128, 784)\nDone optimizing for discriminator\nNoise shape for generator: (128, 100)\nGenerated images shape by generator: (128, 28, 28, 1)\nDone optimizing for generator\nNoise shape for generator: (128, 100)\nFake images shape for discriminator: (128, 28, 28, 1)\nReal images shape for discriminator: (128, 784)\nDone optimizing for discriminator\nNoise shape for generator: (128, 100)\nGenerated images shape by generator: (128, 28, 28, 1)\nDone optimizing for generator\nNoise shape for generator: (128, 100)\nFake images shape for discriminator: (128, 28, 28, 1)\nReal images shape for discriminator: (128, 784)\nDone optimizing for discriminator\nNoise shape for generator: (128, 100)\nGenerated images shape by generator: (128, 28, 28, 1)\nDone optimizing for generator\nNoise shape for generator: (128, 100)\nFake images shape for discriminator: (128, 28, 28, 1)\nReal images shape for discriminator: (128, 784)\nDone optimizing for discriminator\nNoise shape for generator: (128, 100)\nGenerated images shape by generator: (128, 28, 28, 1)\nDone optimizing for generator\nNoise shape for generator: (128, 100)\nFake images shape for discriminator: (128, 28, 28, 1)\nReal images shape for discriminator: (128, 784)\nDone optimizing for discriminator\nNoise shape for generator: (128, 100)\nGenerated images shape by generator: (128, 28, 28, 1)\nDone optimizing for generator\nNoise shape for generator: (128, 100)\nFake images shape for discriminator: (128, 28, 28, 1)\nReal images shape for discriminator: (128, 784)\nDone optimizing for discriminator\nNoise shape for generator: (128, 100)\nGenerated images shape by generator: (128, 28, 28, 1)\nDone optimizing for generator\nNoise shape for generator: (128, 100)\nFake images shape for discriminator: (128, 28, 28, 1)\nReal images shape for discriminator: (128, 784)\nDone optimizing for discriminator\nNoise shape for generator: (128, 100)\nGenerated images shape by generator: (128, 28, 28, 1)\nDone optimizing for generator\nNoise shape for generator: (128, 100)\nFake images shape for discriminator: (128, 28, 28, 1)\nReal images shape for discriminator: (128, 784)\nDone optimizing for discriminator\nNoise shape for generator: (128, 100)\nGenerated images shape by generator: (128, 28, 28, 1)\nDone optimizing for generator\nNoise shape for generator: (128, 100)\nFake images shape for discriminator: (128, 28, 28, 1)\nReal images shape for discriminator: (128, 784)\nDone optimizing for discriminator\nNoise shape for generator: (128, 100)\nGenerated images shape by generator: (128, 28, 28, 1)\nDone optimizing for generator\nNoise shape for generator: (128, 100)\nFake images shape for discriminator: (128, 28, 28, 1)\nReal images shape for discriminator: (128, 784)\nDone optimizing for discriminator\nNoise shape for generator: (128, 100)\nGenerated images shape by generator: (128, 28, 28, 1)\nDone optimizing for generator\nNoise shape for generator: (128, 100)\nFake images shape for discriminator: (128, 28, 28, 1)\nReal images shape for discriminator: (128, 784)\nDone optimizing for discriminator\nNoise shape for generator: (128, 100)\nGenerated images shape by generator: (128, 28, 28, 1)\nDone optimizing for generator\nNoise shape for generator: (128, 100)\nFake images shape for discriminator: (128, 28, 28, 1)\nReal images shape for discriminator: (128, 784)\nDone optimizing for discriminator\nNoise shape for generator: (128, 100)\nGenerated images shape by generator: (128, 28, 28, 1)\nDone optimizing for generator\nNoise shape for generator: (128, 100)\nFake images shape for discriminator: (128, 28, 28, 1)\nReal images shape for discriminator: (128, 784)\nDone optimizing for discriminator\nNoise shape for generator: (128, 100)\nGenerated images shape by generator: (128, 28, 28, 1)\nDone optimizing for generator\nNoise shape for generator: (128, 100)\nFake images shape for discriminator: (128, 28, 28, 1)\nReal images shape for discriminator: (128, 784)\nDone optimizing for discriminator\nNoise shape for generator: (128, 100)\nGenerated images shape by generator: (128, 28, 28, 1)\nDone optimizing for generator\nNoise shape for generator: (128, 100)\nFake images shape for discriminator: (128, 28, 28, 1)\nReal images shape for discriminator: (128, 784)\nDone optimizing for discriminator\nNoise shape for generator: (128, 100)\nGenerated images shape by generator: (128, 28, 28, 1)\nDone optimizing for generator\nNoise shape for generator: (128, 100)\nFake images shape for discriminator: (128, 28, 28, 1)\nReal images shape for discriminator: (128, 784)\nDone optimizing for discriminator\nNoise shape for generator: (128, 100)\nGenerated images shape by generator: (128, 28, 28, 1)\nDone optimizing for generator\nNoise shape for generator: (128, 100)\nFake images shape for discriminator: (128, 28, 28, 1)\nReal images shape for discriminator: (128, 784)\nDone optimizing for discriminator\nNoise shape for generator: (128, 100)\nGenerated images shape by generator: (128, 28, 28, 1)\nDone optimizing for generator\nNoise shape for generator: (128, 100)\nFake images shape for discriminator: (128, 28, 28, 1)\nReal images shape for discriminator: (128, 784)\nDone optimizing for discriminator\nNoise shape for generator: (128, 100)\nGenerated images shape by generator: (128, 28, 28, 1)\nDone optimizing for generator\nNoise shape for generator: (128, 100)\nFake images shape for discriminator: (128, 28, 28, 1)\nReal images shape for discriminator: (128, 784)\nDone optimizing for discriminator\nNoise shape for generator: (128, 100)\nGenerated images shape by generator: (128, 28, 28, 1)\nDone optimizing for generator\nNoise shape for generator: (128, 100)\nFake images shape for discriminator: (128, 28, 28, 1)\nReal images shape for discriminator: (128, 784)\nDone optimizing for discriminator\nNoise shape for generator: (128, 100)\nGenerated images shape by generator: (128, 28, 28, 1)\nDone optimizing for generator\nNoise shape for generator: (128, 100)\nFake images shape for discriminator: (128, 28, 28, 1)\nReal images shape for discriminator: (128, 784)\nDone optimizing for discriminator\nNoise shape for generator: (128, 100)\nGenerated images shape by generator: (128, 28, 28, 1)\nDone optimizing for generator\nNoise shape for generator: (128, 100)\nFake images shape for discriminator: (128, 28, 28, 1)\nReal images shape for discriminator: (128, 784)\nDone optimizing for discriminator\nNoise shape for generator: (128, 100)\nGenerated images shape by generator: (128, 28, 28, 1)\nDone optimizing for generator\nNoise shape for generator: (128, 100)\nFake images shape for discriminator: (128, 28, 28, 1)\nReal images shape for discriminator: (128, 784)\nDone optimizing for discriminator\nNoise shape for generator: (128, 100)\nGenerated images shape by generator: (128, 28, 28, 1)\nDone optimizing for generator\nNoise shape for generator: (128, 100)\nFake images shape for discriminator: (128, 28, 28, 1)\nReal images shape for discriminator: (128, 784)\nDone optimizing for discriminator\nNoise shape for generator: (128, 100)\nGenerated images shape by generator: (128, 28, 28, 1)\nDone optimizing for generator\nNoise shape for generator: (128, 100)\nFake images shape for discriminator: (128, 28, 28, 1)\nReal images shape for discriminator: (128, 784)\nDone optimizing for discriminator\nNoise shape for generator: (128, 100)\nGenerated images shape by generator: (128, 28, 28, 1)\nDone optimizing for generator\nNoise shape for generator: (128, 100)\nFake images shape for discriminator: (128, 28, 28, 1)\nReal images shape for discriminator: (128, 784)\nDone optimizing for discriminator\nNoise shape for generator: (128, 100)\nGenerated images shape by generator: (128, 28, 28, 1)\nDone optimizing for generator\nNoise shape for generator: (128, 100)\nFake images shape for discriminator: (128, 28, 28, 1)\nReal images shape for discriminator: (128, 784)\nDone optimizing for discriminator\nNoise shape for generator: (128, 100)\nGenerated images shape by generator: (128, 28, 28, 1)\nDone optimizing for generator\nNoise shape for generator: (128, 100)\nFake images shape for discriminator: (128, 28, 28, 1)\nReal images shape for discriminator: (128, 784)\nDone optimizing for discriminator\nNoise shape for generator: (128, 100)\nGenerated images shape by generator: (128, 28, 28, 1)\nDone optimizing for generator\nNoise shape for generator: (128, 100)\nFake images shape for discriminator: (128, 28, 28, 1)\nReal images shape for discriminator: (128, 784)\nDone optimizing for discriminator\nNoise shape for generator: (128, 100)\nGenerated images shape by generator: (128, 28, 28, 1)\nDone optimizing for generator\nNoise shape for generator: (128, 100)\nFake images shape for discriminator: (128, 28, 28, 1)\nReal images shape for discriminator: (128, 784)\nDone optimizing for discriminator\nNoise shape for generator: (128, 100)\nGenerated images shape by generator: (128, 28, 28, 1)\nDone optimizing for generator\nNoise shape for generator: (128, 100)\nFake images shape for discriminator: (128, 28, 28, 1)\nReal images shape for discriminator: (128, 784)\nDone optimizing for discriminator\nNoise shape for generator: (128, 100)\nGenerated images shape by generator: (128, 28, 28, 1)\nDone optimizing for generator\nNoise shape for generator: (128, 100)\nFake images shape for discriminator: (128, 28, 28, 1)\nReal images shape for discriminator: (128, 784)\nDone optimizing for discriminator\nNoise shape for generator: (128, 100)\nGenerated images shape by generator: (128, 28, 28, 1)\nDone optimizing for generator\nNoise shape for generator: (128, 100)\nFake images shape for discriminator: (128, 28, 28, 1)\nReal images shape for discriminator: (128, 784)\nDone optimizing for discriminator\nNoise shape for generator: (128, 100)\nGenerated images shape by generator: (128, 28, 28, 1)\nDone optimizing for generator\nNoise shape for generator: (128, 100)\nFake images shape for discriminator: (128, 28, 28, 1)\nReal images shape for discriminator: (128, 784)\nDone optimizing for discriminator\nNoise shape for generator: (128, 100)\nGenerated images shape by generator: (128, 28, 28, 1)\nDone optimizing for generator\nNoise shape for generator: (128, 100)\nFake images shape for discriminator: (128, 28, 28, 1)\nReal images shape for discriminator: (128, 784)\nDone optimizing for discriminator\nNoise shape for generator: (128, 100)\nGenerated images shape by generator: (128, 28, 28, 1)\nDone optimizing for generator\nNoise shape for generator: (128, 100)\nFake images shape for discriminator: (128, 28, 28, 1)\nReal images shape for discriminator: (128, 784)\nDone optimizing for discriminator\nNoise shape for generator: (128, 100)\nGenerated images shape by generator: (128, 28, 28, 1)\nDone optimizing for generator\nNoise shape for generator: (128, 100)\nFake images shape for discriminator: (128, 28, 28, 1)\nReal images shape for discriminator: (128, 784)\nDone optimizing for discriminator\nNoise shape for generator: (128, 100)\nGenerated images shape by generator: (128, 28, 28, 1)\nDone optimizing for generator\nNoise shape for generator: (128, 100)\nFake images shape for discriminator: (128, 28, 28, 1)\nReal images shape for discriminator: (128, 784)\nDone optimizing for discriminator\nNoise shape for generator: (128, 100)\nGenerated images shape by generator: (128, 28, 28, 1)\nDone optimizing for generator\nNoise shape for generator: (128, 100)\nFake images shape for discriminator: (128, 28, 28, 1)\nReal images shape for discriminator: (128, 784)\nDone optimizing for discriminator\nNoise shape for generator: (128, 100)\nGenerated images shape by generator: (128, 28, 28, 1)\nDone optimizing for generator\nNoise shape for generator: (128, 100)\nFake images shape for discriminator: (128, 28, 28, 1)\nReal images shape for discriminator: (128, 784)\nDone optimizing for discriminator\nNoise shape for generator: (128, 100)\nGenerated images shape by generator: (128, 28, 28, 1)\nDone optimizing for generator\nNoise shape for generator: (128, 100)\nFake images shape for discriminator: (128, 28, 28, 1)\nReal images shape for discriminator: (128, 784)\nDone optimizing for discriminator\nNoise shape for generator: (128, 100)\nGenerated images shape by generator: (128, 28, 28, 1)\nDone optimizing for generator\nNoise shape for generator: (128, 100)\nFake images shape for discriminator: (128, 28, 28, 1)\nReal images shape for discriminator: (128, 784)\nDone optimizing for discriminator\nNoise shape for generator: (128, 100)\nGenerated images shape by generator: (128, 28, 28, 1)\nDone optimizing for generator\nNoise shape for generator: (128, 100)\nFake images shape for discriminator: (128, 28, 28, 1)\nReal images shape for discriminator: (128, 784)\nDone optimizing for discriminator\nNoise shape for generator: (128, 100)\nGenerated images shape by generator: (128, 28, 28, 1)\nDone optimizing for generator\nNoise shape for generator: (128, 100)\nFake images shape for discriminator: (128, 28, 28, 1)\nReal images shape for discriminator: (128, 784)\nDone optimizing for discriminator\nNoise shape for generator: (128, 100)\nGenerated images shape by generator: (128, 28, 28, 1)\nDone optimizing for generator\nNoise shape for generator: (128, 100)\nFake images shape for discriminator: (128, 28, 28, 1)\nReal images shape for discriminator: (128, 784)\nDone optimizing for discriminator\nNoise shape for generator: (128, 100)\nGenerated images shape by generator: (128, 28, 28, 1)\nDone optimizing for generator\nNoise shape for generator: (128, 100)\nFake images shape for discriminator: (128, 28, 28, 1)\nReal images shape for discriminator: (128, 784)\nDone optimizing for discriminator\nNoise shape for generator: (128, 100)\nGenerated images shape by generator: (128, 28, 28, 1)\nDone optimizing for generator\nNoise shape for generator: (128, 100)\nFake images shape for discriminator: (128, 28, 28, 1)\nReal images shape for discriminator: (128, 784)\nDone optimizing for discriminator\nNoise shape for generator: (128, 100)\nGenerated images shape by generator: (128, 28, 28, 1)\nDone optimizing for generator\nNoise shape for generator: (128, 100)\nFake images shape for discriminator: (128, 28, 28, 1)\nReal images shape for discriminator: (128, 784)\nDone optimizing for discriminator\nNoise shape for generator: (128, 100)\nGenerated images shape by generator: (128, 28, 28, 1)\nDone optimizing for generator\nNoise shape for generator: (128, 100)\nFake images shape for discriminator: (128, 28, 28, 1)\nReal images shape for discriminator: (128, 784)\nDone optimizing for discriminator\nNoise shape for generator: (128, 100)\nGenerated images shape by generator: (128, 28, 28, 1)\nDone optimizing for generator\nNoise shape for generator: (128, 100)\nFake images shape for discriminator: (128, 28, 28, 1)\nReal images shape for discriminator: (128, 784)\nDone optimizing for discriminator\nNoise shape for generator: (128, 100)\nGenerated images shape by generator: (128, 28, 28, 1)\nDone optimizing for generator\nNoise shape for generator: (128, 100)\nFake images shape for discriminator: (128, 28, 28, 1)\nReal images shape for discriminator: (128, 784)\nDone optimizing for discriminator\nNoise shape for generator: (128, 100)\nGenerated images shape by generator: (128, 28, 28, 1)\nDone optimizing for generator\nNoise shape for generator: (128, 100)\nFake images shape for discriminator: (128, 28, 28, 1)\nReal images shape for discriminator: (128, 784)\nDone optimizing for discriminator\nNoise shape for generator: (128, 100)\nGenerated images shape by generator: (128, 28, 28, 1)\nDone optimizing for generator\nNoise shape for generator: (128, 100)\nFake images shape for discriminator: (128, 28, 28, 1)\nReal images shape for discriminator: (128, 784)\nDone optimizing for discriminator\nNoise shape for generator: (128, 100)\nGenerated images shape by generator: (128, 28, 28, 1)\nDone optimizing for generator\nNoise shape for generator: (128, 100)\nFake images shape for discriminator: (128, 28, 28, 1)\nReal images shape for discriminator: (128, 784)\nDone optimizing for discriminator\nNoise shape for generator: (128, 100)\n"
    },
    {
     "output_type": "error",
     "ename": "KeyboardInterrupt",
     "evalue": "",
     "traceback": [
      "\u001b[1;31m---------------------------------------------------------------------------\u001b[0m",
      "\u001b[1;31mKeyboardInterrupt\u001b[0m                         Traceback (most recent call last)",
      "\u001b[1;32m<ipython-input-15-d9091b2a8f8b>\u001b[0m in \u001b[0;36m<module>\u001b[1;34m\u001b[0m\n\u001b[0;32m     19\u001b[0m \u001b[1;33m\u001b[0m\u001b[0m\n\u001b[0;32m     20\u001b[0m     \u001b[1;31m# Run the optimization.\u001b[0m\u001b[1;33m\u001b[0m\u001b[1;33m\u001b[0m\u001b[1;33m\u001b[0m\u001b[0m\n\u001b[1;32m---> 21\u001b[1;33m     \u001b[0mgen_loss\u001b[0m\u001b[1;33m,\u001b[0m \u001b[0mdisc_loss\u001b[0m \u001b[1;33m=\u001b[0m \u001b[0mrun_optimization\u001b[0m\u001b[1;33m(\u001b[0m\u001b[0mbatch_x\u001b[0m\u001b[1;33m)\u001b[0m\u001b[1;33m\u001b[0m\u001b[1;33m\u001b[0m\u001b[0m\n\u001b[0m\u001b[0;32m     22\u001b[0m \u001b[1;33m\u001b[0m\u001b[0m\n\u001b[0;32m     23\u001b[0m     \u001b[1;32mif\u001b[0m \u001b[0mstep\u001b[0m \u001b[1;33m%\u001b[0m \u001b[0mdisplay_step\u001b[0m \u001b[1;33m==\u001b[0m \u001b[1;36m0\u001b[0m\u001b[1;33m:\u001b[0m\u001b[1;33m\u001b[0m\u001b[1;33m\u001b[0m\u001b[0m\n",
      "\u001b[1;32m<ipython-input-14-bee3547072c8>\u001b[0m in \u001b[0;36mrun_optimization\u001b[1;34m(real_images)\u001b[0m\n\u001b[0;32m     30\u001b[0m         \u001b[0mgenerated_images\u001b[0m \u001b[1;33m=\u001b[0m \u001b[0mgenerator\u001b[0m\u001b[1;33m(\u001b[0m\u001b[0mnoise\u001b[0m\u001b[1;33m,\u001b[0m \u001b[0mis_training\u001b[0m\u001b[1;33m=\u001b[0m\u001b[1;32mTrue\u001b[0m\u001b[1;33m)\u001b[0m\u001b[1;33m\u001b[0m\u001b[1;33m\u001b[0m\u001b[0m\n\u001b[0;32m     31\u001b[0m \u001b[1;33m\u001b[0m\u001b[0m\n\u001b[1;32m---> 32\u001b[1;33m         \u001b[0mfake_pred\u001b[0m \u001b[1;33m=\u001b[0m \u001b[0mdiscriminator\u001b[0m\u001b[1;33m(\u001b[0m\u001b[0mgenerated_images\u001b[0m\u001b[1;33m)\u001b[0m\u001b[1;33m\u001b[0m\u001b[1;33m\u001b[0m\u001b[0m\n\u001b[0m\u001b[0;32m     33\u001b[0m \u001b[1;33m\u001b[0m\u001b[0m\n\u001b[0;32m     34\u001b[0m         \u001b[0mprint\u001b[0m\u001b[1;33m(\u001b[0m\u001b[1;34mf\"Generated images shape by generator: {generated_images.shape}\"\u001b[0m\u001b[1;33m)\u001b[0m\u001b[1;33m\u001b[0m\u001b[1;33m\u001b[0m\u001b[0m\n",
      "\u001b[1;32mC:\\ProgramData\\Anaconda3\\envs\\deeplearning\\lib\\site-packages\\tensorflow_core\\python\\keras\\engine\\base_layer.py\u001b[0m in \u001b[0;36m__call__\u001b[1;34m(self, inputs, *args, **kwargs)\u001b[0m\n\u001b[0;32m    820\u001b[0m           with base_layer_utils.autocast_context_manager(\n\u001b[0;32m    821\u001b[0m               self._compute_dtype):\n\u001b[1;32m--> 822\u001b[1;33m             \u001b[0moutputs\u001b[0m \u001b[1;33m=\u001b[0m \u001b[0mself\u001b[0m\u001b[1;33m.\u001b[0m\u001b[0mcall\u001b[0m\u001b[1;33m(\u001b[0m\u001b[0mcast_inputs\u001b[0m\u001b[1;33m,\u001b[0m \u001b[1;33m*\u001b[0m\u001b[0margs\u001b[0m\u001b[1;33m,\u001b[0m \u001b[1;33m**\u001b[0m\u001b[0mkwargs\u001b[0m\u001b[1;33m)\u001b[0m\u001b[1;33m\u001b[0m\u001b[1;33m\u001b[0m\u001b[0m\n\u001b[0m\u001b[0;32m    823\u001b[0m           \u001b[0mself\u001b[0m\u001b[1;33m.\u001b[0m\u001b[0m_handle_activity_regularization\u001b[0m\u001b[1;33m(\u001b[0m\u001b[0minputs\u001b[0m\u001b[1;33m,\u001b[0m \u001b[0moutputs\u001b[0m\u001b[1;33m)\u001b[0m\u001b[1;33m\u001b[0m\u001b[1;33m\u001b[0m\u001b[0m\n\u001b[0;32m    824\u001b[0m           \u001b[0mself\u001b[0m\u001b[1;33m.\u001b[0m\u001b[0m_set_mask_metadata\u001b[0m\u001b[1;33m(\u001b[0m\u001b[0minputs\u001b[0m\u001b[1;33m,\u001b[0m \u001b[0moutputs\u001b[0m\u001b[1;33m,\u001b[0m \u001b[0minput_masks\u001b[0m\u001b[1;33m)\u001b[0m\u001b[1;33m\u001b[0m\u001b[1;33m\u001b[0m\u001b[0m\n",
      "\u001b[1;32m<ipython-input-6-1a21654f0e19>\u001b[0m in \u001b[0;36mcall\u001b[1;34m(self, x, is_training)\u001b[0m\n\u001b[0;32m     17\u001b[0m \u001b[1;33m\u001b[0m\u001b[0m\n\u001b[0;32m     18\u001b[0m         \u001b[0mx\u001b[0m \u001b[1;33m=\u001b[0m \u001b[0mself\u001b[0m\u001b[1;33m.\u001b[0m\u001b[0mconv1\u001b[0m\u001b[1;33m(\u001b[0m\u001b[0mx\u001b[0m\u001b[1;33m)\u001b[0m\u001b[1;33m\u001b[0m\u001b[1;33m\u001b[0m\u001b[0m\n\u001b[1;32m---> 19\u001b[1;33m         \u001b[0mx\u001b[0m \u001b[1;33m=\u001b[0m \u001b[0mself\u001b[0m\u001b[1;33m.\u001b[0m\u001b[0mbn1\u001b[0m\u001b[1;33m(\u001b[0m\u001b[0mx\u001b[0m\u001b[1;33m)\u001b[0m\u001b[1;33m\u001b[0m\u001b[1;33m\u001b[0m\u001b[0m\n\u001b[0m\u001b[0;32m     20\u001b[0m \u001b[1;33m\u001b[0m\u001b[0m\n\u001b[0;32m     21\u001b[0m         \u001b[0mx\u001b[0m \u001b[1;33m=\u001b[0m \u001b[0mself\u001b[0m\u001b[1;33m.\u001b[0m\u001b[0mconv2\u001b[0m\u001b[1;33m(\u001b[0m\u001b[0mx\u001b[0m\u001b[1;33m)\u001b[0m\u001b[1;33m\u001b[0m\u001b[1;33m\u001b[0m\u001b[0m\n",
      "\u001b[1;32mC:\\ProgramData\\Anaconda3\\envs\\deeplearning\\lib\\site-packages\\tensorflow_core\\python\\keras\\engine\\base_layer.py\u001b[0m in \u001b[0;36m__call__\u001b[1;34m(self, inputs, *args, **kwargs)\u001b[0m\n\u001b[0;32m    820\u001b[0m           with base_layer_utils.autocast_context_manager(\n\u001b[0;32m    821\u001b[0m               self._compute_dtype):\n\u001b[1;32m--> 822\u001b[1;33m             \u001b[0moutputs\u001b[0m \u001b[1;33m=\u001b[0m \u001b[0mself\u001b[0m\u001b[1;33m.\u001b[0m\u001b[0mcall\u001b[0m\u001b[1;33m(\u001b[0m\u001b[0mcast_inputs\u001b[0m\u001b[1;33m,\u001b[0m \u001b[1;33m*\u001b[0m\u001b[0margs\u001b[0m\u001b[1;33m,\u001b[0m \u001b[1;33m**\u001b[0m\u001b[0mkwargs\u001b[0m\u001b[1;33m)\u001b[0m\u001b[1;33m\u001b[0m\u001b[1;33m\u001b[0m\u001b[0m\n\u001b[0m\u001b[0;32m    823\u001b[0m           \u001b[0mself\u001b[0m\u001b[1;33m.\u001b[0m\u001b[0m_handle_activity_regularization\u001b[0m\u001b[1;33m(\u001b[0m\u001b[0minputs\u001b[0m\u001b[1;33m,\u001b[0m \u001b[0moutputs\u001b[0m\u001b[1;33m)\u001b[0m\u001b[1;33m\u001b[0m\u001b[1;33m\u001b[0m\u001b[0m\n\u001b[0;32m    824\u001b[0m           \u001b[0mself\u001b[0m\u001b[1;33m.\u001b[0m\u001b[0m_set_mask_metadata\u001b[0m\u001b[1;33m(\u001b[0m\u001b[0minputs\u001b[0m\u001b[1;33m,\u001b[0m \u001b[0moutputs\u001b[0m\u001b[1;33m,\u001b[0m \u001b[0minput_masks\u001b[0m\u001b[1;33m)\u001b[0m\u001b[1;33m\u001b[0m\u001b[1;33m\u001b[0m\u001b[0m\n",
      "\u001b[1;32mC:\\ProgramData\\Anaconda3\\envs\\deeplearning\\lib\\site-packages\\tensorflow_core\\python\\keras\\layers\\normalization.py\u001b[0m in \u001b[0;36mcall\u001b[1;34m(self, inputs, training)\u001b[0m\n\u001b[0;32m    677\u001b[0m \u001b[1;33m\u001b[0m\u001b[0m\n\u001b[0;32m    678\u001b[0m   \u001b[1;32mdef\u001b[0m \u001b[0mcall\u001b[0m\u001b[1;33m(\u001b[0m\u001b[0mself\u001b[0m\u001b[1;33m,\u001b[0m \u001b[0minputs\u001b[0m\u001b[1;33m,\u001b[0m \u001b[0mtraining\u001b[0m\u001b[1;33m=\u001b[0m\u001b[1;32mNone\u001b[0m\u001b[1;33m)\u001b[0m\u001b[1;33m:\u001b[0m\u001b[1;33m\u001b[0m\u001b[1;33m\u001b[0m\u001b[0m\n\u001b[1;32m--> 679\u001b[1;33m     \u001b[0mtraining\u001b[0m \u001b[1;33m=\u001b[0m \u001b[0mself\u001b[0m\u001b[1;33m.\u001b[0m\u001b[0m_get_training_value\u001b[0m\u001b[1;33m(\u001b[0m\u001b[0mtraining\u001b[0m\u001b[1;33m)\u001b[0m\u001b[1;33m\u001b[0m\u001b[1;33m\u001b[0m\u001b[0m\n\u001b[0m\u001b[0;32m    680\u001b[0m \u001b[1;33m\u001b[0m\u001b[0m\n\u001b[0;32m    681\u001b[0m     \u001b[1;32mif\u001b[0m \u001b[0mself\u001b[0m\u001b[1;33m.\u001b[0m\u001b[0mvirtual_batch_size\u001b[0m \u001b[1;32mis\u001b[0m \u001b[1;32mnot\u001b[0m \u001b[1;32mNone\u001b[0m\u001b[1;33m:\u001b[0m\u001b[1;33m\u001b[0m\u001b[1;33m\u001b[0m\u001b[0m\n",
      "\u001b[1;32mC:\\ProgramData\\Anaconda3\\envs\\deeplearning\\lib\\site-packages\\tensorflow_core\\python\\keras\\layers\\normalization.py\u001b[0m in \u001b[0;36m_get_training_value\u001b[1;34m(self, training)\u001b[0m\n\u001b[0;32m    673\u001b[0m         \u001b[0mtraining\u001b[0m \u001b[1;33m=\u001b[0m \u001b[0mmath_ops\u001b[0m\u001b[1;33m.\u001b[0m\u001b[0mlogical_and\u001b[0m\u001b[1;33m(\u001b[0m\u001b[0mtraining\u001b[0m\u001b[1;33m,\u001b[0m \u001b[0mself\u001b[0m\u001b[1;33m.\u001b[0m\u001b[0m_get_trainable_var\u001b[0m\u001b[1;33m(\u001b[0m\u001b[1;33m)\u001b[0m\u001b[1;33m)\u001b[0m\u001b[1;33m\u001b[0m\u001b[1;33m\u001b[0m\u001b[0m\n\u001b[0;32m    674\u001b[0m       \u001b[1;32melse\u001b[0m\u001b[1;33m:\u001b[0m\u001b[1;33m\u001b[0m\u001b[1;33m\u001b[0m\u001b[0m\n\u001b[1;32m--> 675\u001b[1;33m         \u001b[0mtraining\u001b[0m \u001b[1;33m=\u001b[0m \u001b[0mmath_ops\u001b[0m\u001b[1;33m.\u001b[0m\u001b[0mlogical_and\u001b[0m\u001b[1;33m(\u001b[0m\u001b[0mtraining\u001b[0m\u001b[1;33m,\u001b[0m \u001b[0mself\u001b[0m\u001b[1;33m.\u001b[0m\u001b[0mtrainable\u001b[0m\u001b[1;33m)\u001b[0m\u001b[1;33m\u001b[0m\u001b[1;33m\u001b[0m\u001b[0m\n\u001b[0m\u001b[0;32m    676\u001b[0m     \u001b[1;32mreturn\u001b[0m \u001b[0mtraining\u001b[0m\u001b[1;33m\u001b[0m\u001b[1;33m\u001b[0m\u001b[0m\n\u001b[0;32m    677\u001b[0m \u001b[1;33m\u001b[0m\u001b[0m\n",
      "\u001b[1;32mC:\\ProgramData\\Anaconda3\\envs\\deeplearning\\lib\\site-packages\\tensorflow_core\\python\\ops\\gen_math_ops.py\u001b[0m in \u001b[0;36mlogical_and\u001b[1;34m(x, y, name)\u001b[0m\n\u001b[0;32m   5379\u001b[0m       _result = _pywrap_tensorflow.TFE_Py_FastPathExecute(\n\u001b[0;32m   5380\u001b[0m         \u001b[0m_ctx\u001b[0m\u001b[1;33m.\u001b[0m\u001b[0m_context_handle\u001b[0m\u001b[1;33m,\u001b[0m \u001b[0mtld\u001b[0m\u001b[1;33m.\u001b[0m\u001b[0mdevice_name\u001b[0m\u001b[1;33m,\u001b[0m \u001b[1;34m\"LogicalAnd\"\u001b[0m\u001b[1;33m,\u001b[0m \u001b[0mname\u001b[0m\u001b[1;33m,\u001b[0m\u001b[1;33m\u001b[0m\u001b[1;33m\u001b[0m\u001b[0m\n\u001b[1;32m-> 5381\u001b[1;33m         tld.op_callbacks, x, y)\n\u001b[0m\u001b[0;32m   5382\u001b[0m       \u001b[1;32mreturn\u001b[0m \u001b[0m_result\u001b[0m\u001b[1;33m\u001b[0m\u001b[1;33m\u001b[0m\u001b[0m\n\u001b[0;32m   5383\u001b[0m     \u001b[1;32mexcept\u001b[0m \u001b[0m_core\u001b[0m\u001b[1;33m.\u001b[0m\u001b[0m_FallbackException\u001b[0m\u001b[1;33m:\u001b[0m\u001b[1;33m\u001b[0m\u001b[1;33m\u001b[0m\u001b[0m\n",
      "\u001b[1;31mKeyboardInterrupt\u001b[0m: "
     ]
    }
   ],
   "source": [
    "for step, (batch_x, _) in enumerate(train_data.take(training_steps + 1)):\n",
    "    \n",
    "    if step == 0:\n",
    "        # Generate noise.\n",
    "        noise = np.random.normal(-1., 1., size=[batch_size, noise_dim]).astype(np.float32)\n",
    "\n",
    "        # print(f\"Noise shape in main for loop: {noise.shape}\")\n",
    "\n",
    "        generated_images = generator(noise)\n",
    "\n",
    "        # print(f\"Generated images shape in main for loop: {generated_images.shape}\")\n",
    "\n",
    "        gen_loss = generator_loss(discriminator(generated_images))\n",
    "\n",
    "\n",
    "        disc_loss = discriminator_loss(discriminator(batch_x), discriminator(generator(noise)))\n",
    "        # print(\"initial: gen_loss: %f, disc_loss: %f\" % (gen_loss, disc_loss))\n",
    "        continue\n",
    "    \n",
    "    # Run the optimization.\n",
    "    gen_loss, disc_loss = run_optimization(batch_x)\n",
    "    \n",
    "    if step % display_step == 0:\n",
    "        print(\"step: %i, gen_loss: %f, disc_loss: %f\" % (step, gen_loss, disc_loss))"
   ]
  },
  {
   "cell_type": "code",
   "execution_count": null,
   "metadata": {},
   "outputs": [],
   "source": []
  },
  {
   "cell_type": "code",
   "execution_count": null,
   "metadata": {},
   "outputs": [],
   "source": []
  },
  {
   "cell_type": "code",
   "execution_count": null,
   "metadata": {},
   "outputs": [],
   "source": []
  },
  {
   "cell_type": "code",
   "execution_count": null,
   "metadata": {},
   "outputs": [],
   "source": []
  },
  {
   "cell_type": "code",
   "execution_count": null,
   "metadata": {},
   "outputs": [],
   "source": []
  },
  {
   "cell_type": "code",
   "execution_count": null,
   "metadata": {},
   "outputs": [],
   "source": []
  },
  {
   "cell_type": "code",
   "execution_count": null,
   "metadata": {},
   "outputs": [],
   "source": []
  }
 ]
}