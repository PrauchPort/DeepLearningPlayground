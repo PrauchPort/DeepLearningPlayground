{
 "metadata": {
  "language_info": {
   "codemirror_mode": {
    "name": "ipython",
    "version": 3
   },
   "file_extension": ".py",
   "mimetype": "text/x-python",
   "name": "python",
   "nbconvert_exporter": "python",
   "pygments_lexer": "ipython3",
   "version": "3.6.10-final"
  },
  "orig_nbformat": 2,
  "kernelspec": {
   "name": "python361064bitdeeplearningcondaa9daeba634b04f9786f392bcf0f53381",
   "display_name": "Python 3.6.10 64-bit ('deeplearning': conda)"
  }
 },
 "nbformat": 4,
 "nbformat_minor": 2,
 "cells": [
  {
   "cell_type": "code",
   "execution_count": 1,
   "metadata": {
    "tags": []
   },
   "outputs": [
    {
     "output_type": "stream",
     "name": "stdout",
     "text": "2.3.0\n"
    }
   ],
   "source": [
    "# TensorFlow and tf.keras\n",
    "import tensorflow as tf\n",
    "from tensorflow import keras\n",
    "\n",
    "# Helper libraries\n",
    "import numpy as np\n",
    "import matplotlib.pyplot as plt\n",
    "\n",
    "print(tf.__version__)"
   ]
  },
  {
   "cell_type": "code",
   "execution_count": 2,
   "metadata": {},
   "outputs": [],
   "source": [
    "fashion_mnist = keras.datasets.fashion_mnist\n",
    "\n",
    "(train_images, train_labels), (test_images, test_labels) = fashion_mnist.load_data()"
   ]
  },
  {
   "cell_type": "code",
   "execution_count": 3,
   "metadata": {},
   "outputs": [],
   "source": [
    "class_names = ['T-shirt/top', 'Trouser', 'Pullover', 'Dress', 'Coat',\n",
    "               'Sandal', 'Shirt', 'Sneaker', 'Bag', 'Ankle boot']"
   ]
  },
  {
   "cell_type": "code",
   "execution_count": 4,
   "metadata": {},
   "outputs": [],
   "source": [
    "train_images = train_images / 255.0\n",
    "\n",
    "test_images = test_images / 255.0"
   ]
  },
  {
   "cell_type": "code",
   "execution_count": 5,
   "metadata": {},
   "outputs": [],
   "source": [
    "model = keras.Sequential([\n",
    "    keras.layers.Flatten(input_shape=(28, 28)),\n",
    "    keras.layers.Dense(128, activation='relu'),\n",
    "    keras.layers.Dense(10)\n",
    "])"
   ]
  },
  {
   "cell_type": "code",
   "execution_count": 6,
   "metadata": {},
   "outputs": [],
   "source": [
    "model.compile(optimizer='adam',\n",
    "              loss=tf.keras.losses.SparseCategoricalCrossentropy(from_logits=True),\n",
    "              metrics=['accuracy'])"
   ]
  },
  {
   "cell_type": "code",
   "execution_count": 7,
   "metadata": {
    "tags": []
   },
   "outputs": [
    {
     "output_type": "stream",
     "name": "stdout",
     "text": "Epoch 1/10\n1875/1875 [==============================] - 3s 2ms/step - loss: 0.4995 - accuracy: 0.8237\nEpoch 2/10\n1875/1875 [==============================] - 4s 2ms/step - loss: 0.3792 - accuracy: 0.8621\nEpoch 3/10\n1875/1875 [==============================] - 3s 1ms/step - loss: 0.3371 - accuracy: 0.8779\nEpoch 4/10\n1875/1875 [==============================] - 3s 1ms/step - loss: 0.3134 - accuracy: 0.8857\nEpoch 5/10\n1875/1875 [==============================] - 3s 1ms/step - loss: 0.2944 - accuracy: 0.8910\nEpoch 6/10\n1875/1875 [==============================] - 2s 1ms/step - loss: 0.2791 - accuracy: 0.8963\nEpoch 7/10\n1875/1875 [==============================] - 2s 1ms/step - loss: 0.2674 - accuracy: 0.9025\nEpoch 8/10\n1875/1875 [==============================] - 3s 1ms/step - loss: 0.2567 - accuracy: 0.9060\nEpoch 9/10\n1875/1875 [==============================] - 2s 1ms/step - loss: 0.2469 - accuracy: 0.9092\nEpoch 10/10\n1875/1875 [==============================] - 2s 1ms/step - loss: 0.2366 - accuracy: 0.9110\n"
    },
    {
     "output_type": "execute_result",
     "data": {
      "text/plain": "<tensorflow.python.keras.callbacks.History at 0x1f985c305f8>"
     },
     "metadata": {},
     "execution_count": 7
    }
   ],
   "source": [
    "model.fit(train_images, train_labels, epochs=10)"
   ]
  },
  {
   "cell_type": "code",
   "execution_count": null,
   "metadata": {},
   "outputs": [],
   "source": []
  }
 ]
}